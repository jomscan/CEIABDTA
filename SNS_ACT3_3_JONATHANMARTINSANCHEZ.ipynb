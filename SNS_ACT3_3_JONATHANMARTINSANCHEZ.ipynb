{
  "nbformat": 4,
  "nbformat_minor": 0,
  "metadata": {
    "colab": {
      "provenance": [],
      "authorship_tag": "ABX9TyMliz9optjIBx/CATHMJlQV",
      "include_colab_link": true
    },
    "kernelspec": {
      "name": "python3",
      "display_name": "Python 3"
    },
    "language_info": {
      "name": "python"
    }
  },
  "cells": [
    {
      "cell_type": "markdown",
      "metadata": {
        "id": "view-in-github",
        "colab_type": "text"
      },
      "source": [
        "<a href=\"https://colab.research.google.com/github/jomscan/CEIABDTA/blob/main/SNS_ACT3_3_JONATHANMARTINSANCHEZ.ipynb\" target=\"_parent\"><img src=\"https://colab.research.google.com/assets/colab-badge.svg\" alt=\"Open In Colab\"/></a>"
      ]
    },
    {
      "cell_type": "markdown",
      "source": [
        "**JONATHAN MARTIN SANCHEZ**"
      ],
      "metadata": {
        "id": "fkmusXIPeans"
      }
    },
    {
      "cell_type": "code",
      "execution_count": 1,
      "metadata": {
        "id": "PvfeU9FGcdUG"
      },
      "outputs": [],
      "source": [
        "from sklearn.datasets import load_iris\n",
        "from sklearn.model_selection import train_test_split, cross_val_score\n",
        "from sklearn.naive_bayes import GaussianNB, MultinomialNB, BernoulliNB, ComplementNB, CategoricalNB\n",
        "from sklearn.preprocessing import MinMaxScaler, KBinsDiscretizer\n",
        "from sklearn.metrics import accuracy_score\n",
        "import numpy as np"
      ]
    },
    {
      "cell_type": "code",
      "source": [
        "# Cargar datos Iris\n",
        "iris = load_iris()\n",
        "X, y = iris.data, iris.target\n",
        "\n",
        "# Preprocesamiento\n",
        "scaler = MinMaxScaler()\n",
        "X_scaled = scaler.fit_transform(X)\n",
        "discretizer = KBinsDiscretizer(n_bins=9, encode='ordinal', strategy='uniform')\n",
        "X_discrete = discretizer.fit_transform(X_scaled)\n",
        "\n",
        "# Dividir datos en entrenamiento y prueba\n",
        "X_train, X_test, y_train, y_test = train_test_split(X, y, test_size=0.3, random_state=42)\n",
        "\n",
        "# Inicializar clasificadores\n",
        "models = {\n",
        "    \"GaussianNB\": GaussianNB(),\n",
        "    \"MultinomialNB\": MultinomialNB(),\n",
        "    \"BernoulliNB\": BernoulliNB(),\n",
        "    \"ComplementNB\": ComplementNB(),\n",
        "    \"CategoricalNB\": CategoricalNB()\n",
        "}\n",
        "\n",
        "# Evaluación de los modelos\n",
        "results = {}\n",
        "for name, model in models.items():\n",
        "    try:\n",
        "        # Sin validación cruzada\n",
        "        if name in [\"MultinomialNB\", \"BernoulliNB\", \"ComplementNB\", \"CategoricalNB\"]:\n",
        "            model.fit(X_discrete, y)\n",
        "            accuracy_no_cv = accuracy_score(y_test, model.predict(discretizer.transform(X_test)))\n",
        "        else:\n",
        "            model.fit(X_train, y_train)\n",
        "            accuracy_no_cv = accuracy_score(y_test, model.predict(X_test))\n",
        "\n",
        "        # Con validación cruzada\n",
        "        if name in [\"MultinomialNB\", \"BernoulliNB\", \"ComplementNB\", \"CategoricalNB\"]:\n",
        "            cv_scores = cross_val_score(model, X_discrete, y, cv=5)\n",
        "        else:\n",
        "            cv_scores = cross_val_score(model, X, y, cv=5)\n",
        "\n",
        "        results[name] = {\n",
        "            \"Sin CrossValidation\": round(accuracy_no_cv, 2),\n",
        "            \"Con CrossValidation\": round(np.mean(cv_scores), 2)\n",
        "        }\n",
        "    except Exception as e:\n",
        "        results[name] = {\n",
        "            \"Sin CrossValidation\": \"Error\",\n",
        "            \"Con CrossValidation\": \"Error\"\n",
        "        }\n",
        "        print(f\"Error con {name}: {e}\")"
      ],
      "metadata": {
        "id": "hScuUMLZdDH6"
      },
      "execution_count": 2,
      "outputs": []
    },
    {
      "cell_type": "code",
      "source": [
        "# Mostrar resultados en formato tabla\n",
        "print(\"\\nResultados para Iris:\")\n",
        "print(f\"{'Modelo':<15} {'Sin CrossValidation':<20} {'Con CrossValidation':<20}\")\n",
        "for model, scores in results.items():\n",
        "    print(f\"{model:<15} {scores['Sin CrossValidation']:<20} {scores['Con CrossValidation']:<20}\")"
      ],
      "metadata": {
        "colab": {
          "base_uri": "https://localhost:8080/"
        },
        "id": "lxLbdKFtdKmp",
        "outputId": "740af9ab-8611-4c16-8b8a-2d83c0b7ac41"
      },
      "execution_count": 3,
      "outputs": [
        {
          "output_type": "stream",
          "name": "stdout",
          "text": [
            "\n",
            "Resultados para Iris:\n",
            "Modelo          Sin CrossValidation  Con CrossValidation \n",
            "GaussianNB      0.98                 0.95                \n",
            "MultinomialNB   0.29                 0.75                \n",
            "BernoulliNB     0.36                 0.65                \n",
            "ComplementNB    0.42                 0.67                \n",
            "CategoricalNB   0.36                 0.95                \n"
          ]
        }
      ]
    }
  ]
}