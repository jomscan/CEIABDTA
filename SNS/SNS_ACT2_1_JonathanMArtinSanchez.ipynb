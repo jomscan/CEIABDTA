{
  "nbformat": 4,
  "nbformat_minor": 0,
  "metadata": {
    "colab": {
      "provenance": [],
      "authorship_tag": "ABX9TyMerVRK8pS/8cMEdrw7I7cH",
      "include_colab_link": true
    },
    "kernelspec": {
      "name": "python3",
      "display_name": "Python 3"
    },
    "language_info": {
      "name": "python"
    }
  },
  "cells": [
    {
      "cell_type": "markdown",
      "metadata": {
        "id": "view-in-github",
        "colab_type": "text"
      },
      "source": [
        "<a href=\"https://colab.research.google.com/github/jomscan/CEIABDTA/blob/main/SNS/SNS_ACT2_1_JonathanMArtinSanchez.ipynb\" target=\"_parent\"><img src=\"https://colab.research.google.com/assets/colab-badge.svg\" alt=\"Open In Colab\"/></a>"
      ]
    },
    {
      "cell_type": "markdown",
      "source": [
        " autor : **Jonathan Martín Sánchez**"
      ],
      "metadata": {
        "id": "Y0trF4GjdKS6"
      }
    },
    {
      "cell_type": "code",
      "execution_count": 3,
      "metadata": {
        "colab": {
          "base_uri": "https://localhost:8080/"
        },
        "id": "xZTxjUaQTBOd",
        "outputId": "1364b774-d562-457f-d3be-01c63d92dea8"
      },
      "outputs": [
        {
          "output_type": "execute_result",
          "data": {
            "text/plain": [
              "array([15112.23606759, 15119.1805396 , 15182.83052221, 15290.96918856,\n",
              "       15512.63439302, 15691.2810631 , 15955.64348898, 16045.12382552,\n",
              "       16134.63934451, 16150.36849121, 16182.37973251, 16203.73146151,\n",
              "       16252.51906046, 16348.21363786, 16553.03048343, 16601.84735795,\n",
              "       16604.00476011, 16615.65595719, 16637.40821823, 16663.69036045,\n",
              "       16814.17374948, 17003.98013534, 17019.91195461, 17266.81719402,\n",
              "       17276.7722332 , 17281.88096865, 17307.0154539 , 17403.2248391 ,\n",
              "       17415.94812956, 17501.53662291, 17574.30141683, 17652.09529068,\n",
              "       17781.8053677 , 17914.6670261 , 17957.89298291, 17988.31522361,\n",
              "       18048.30883609, 18135.57048394, 18203.79551119, 18473.0386686 ,\n",
              "       18497.75932308, 18944.19532835, 18966.98303291, 19194.3592191 ,\n",
              "       19342.23758933, 19361.72256584, 19410.19774474, 19464.43658277,\n",
              "       19528.82003864, 19866.10277585, 19973.62556527, 20147.62691936,\n",
              "       20167.7683833 , 20223.53971013, 20443.97523233, 20524.04201858,\n",
              "       20536.1321092 , 20677.24320512, 20977.54802895, 20979.55907414,\n",
              "       21019.33438018, 21026.17215789, 21036.0213906 , 21283.55980237,\n",
              "       21394.10862902, 21593.21629622, 21678.87028431, 21680.77036145,\n",
              "       21692.718418  , 21883.19602898, 21899.99835052, 22290.28938646,\n",
              "       22366.34950479, 22531.28423954, 22589.12975062, 22703.35313737,\n",
              "       22843.39003311, 22856.17470618, 22880.16538872, 22895.396035  ,\n",
              "       22969.02639758, 23106.34513385, 23140.41924276, 23167.03240013,\n",
              "       23305.54475835, 23549.59277037, 23604.58587419, 23701.50974696,\n",
              "       23819.6268654 , 23886.50892366, 23956.17133533, 24034.62459619,\n",
              "       24053.02223658, 24153.66642957, 24209.57525713, 24355.28561548,\n",
              "       24599.77105808, 24913.62245305, 24970.60808765, 24993.79575712])"
            ]
          },
          "metadata": {},
          "execution_count": 3
        }
      ],
      "source": [
        "# LIBRERÍAS EMPLEADAS EN EL EJEMPLO\n",
        "# Tratamiento de datos\n",
        "# ==============================================================================\n",
        "import numpy as np\n",
        "import pandas as pd\n",
        "\n",
        "# Generación de datos\n",
        "# ==============================================================================\n",
        "# Generamos (100 elementos) ingresos uniformemente distribuidos en [15000,25000]\n",
        "datos = 15000+np.random.rand(100)*10000\n",
        "datos_ord = datos\n",
        "datos_ord.sort()\n",
        "datos"
      ]
    },
    {
      "cell_type": "code",
      "source": [
        "media=  np.mean(datos)\n",
        "mediana=  np.median (datos) # Es el valor central cuando los datos se ordenan\n",
        "print(f\" Media= {media} y Mediana={mediana}\")"
      ],
      "metadata": {
        "colab": {
          "base_uri": "https://localhost:8080/"
        },
        "id": "5WjP6rE7TcH9",
        "outputId": "ad65ddfd-91f9-489f-d6ce-7a208b2a1663"
      },
      "execution_count": null,
      "outputs": [
        {
          "output_type": "stream",
          "name": "stdout",
          "text": [
            " Media= 19967.880713186867 y Mediana=20201.035835001912\n"
          ]
        }
      ]
    },
    {
      "cell_type": "code",
      "source": [
        "# Simulamos (porque se lo asignamos en la siguiente línea) que el vecino 50 tiene unos ingresos significativamente mayores que el resto\n",
        "datos[50]=500000\n",
        "datos"
      ],
      "metadata": {
        "colab": {
          "base_uri": "https://localhost:8080/"
        },
        "id": "qzxQXr5PUQbV",
        "outputId": "6a0b834f-605d-4e66-81d4-7c915c01b19b"
      },
      "execution_count": null,
      "outputs": [
        {
          "output_type": "execute_result",
          "data": {
            "text/plain": [
              "array([ 15030.25723892,  15126.44485994,  15236.58946298,  15319.58604724,\n",
              "        15666.71212272,  15696.57162391,  15711.97360395,  15778.64207152,\n",
              "        15823.19763667,  16120.60909041,  16272.86183182,  16273.34206138,\n",
              "        16334.35273425,  16375.48117621,  16475.54391485,  16485.29766015,\n",
              "        16605.98216567,  16674.34548692,  16703.40104398,  16846.63303812,\n",
              "        16925.65274399,  16944.34411239,  16949.50179149,  17052.97942859,\n",
              "        17118.17842706,  17258.99345717,  17315.78395342,  17335.78481475,\n",
              "        17473.39516281,  17502.04478451,  17679.44995257,  17681.58548238,\n",
              "        17899.40397651,  17916.56409859,  18004.45373373,  18186.23024332,\n",
              "        18200.78302091,  18235.97388793,  18420.42815682,  18541.71683853,\n",
              "        18960.06288111,  19202.97934474,  19210.81688644,  19570.24434495,\n",
              "        19707.03706532,  19833.32622934,  19835.39566737,  19893.96926489,\n",
              "        20095.20751484,  20189.3681557 , 500000.        ,  20359.95679759,\n",
              "        20696.35443141,  20877.54700134,  20922.67675016,  20933.21049868,\n",
              "        20933.48242462,  21064.52048853,  21229.61594573,  21283.54743173,\n",
              "        21293.36103454,  21458.08916235,  21558.85594658,  21676.36445631,\n",
              "        21733.35125299,  21786.38571415,  21939.82047705,  22022.30244306,\n",
              "        22072.75941674,  22091.12992816,  22274.77200016,  22301.17221718,\n",
              "        22405.1652498 ,  22515.10065915,  22562.08195155,  22591.35352504,\n",
              "        22668.49394239,  22746.05253476,  22769.88647593,  22861.34004125,\n",
              "        22878.35552269,  23065.5665344 ,  23096.94849003,  23140.97428218,\n",
              "        23369.04402114,  23385.72691918,  23478.59884004,  23511.72708943,\n",
              "        23649.50763758,  23759.51852174,  23831.37089288,  23858.29878539,\n",
              "        24006.3138523 ,  24078.06583263,  24133.1381604 ,  24133.34019317,\n",
              "        24186.0282909 ,  24207.31479221,  24619.538429  ,  24857.76022441])"
            ]
          },
          "metadata": {},
          "execution_count": 3
        }
      ]
    },
    {
      "cell_type": "code",
      "source": [
        "media=  np.mean(datos)\n",
        "mediana=  np.median (datos) # Es el valor central cuando los datos se ordenan\n",
        "print(f\" Media= {media} y Mediana={mediana}\")\n"
      ],
      "metadata": {
        "colab": {
          "base_uri": "https://localhost:8080/"
        },
        "id": "z7ODEFEbUbdU",
        "outputId": "912faa4b-b63a-42c1-b500-0feb2598ac69"
      },
      "execution_count": null,
      "outputs": [
        {
          "output_type": "stream",
          "name": "stdout",
          "text": [
            " Media= 24765.753678043802 y Mediana=20274.662476643134\n"
          ]
        }
      ]
    },
    {
      "cell_type": "code",
      "source": [
        "# CRITERIO 1: PROBABILIDAD GLOBAL - Explicado en el capítulo 5 - Preprocesamiento (Semana 2), en la pág 10\n",
        "# Asumiendo que las variables tiene una distribución normal.\n",
        "# Probabilidad de la muestra de estar dentro de las bandas\n",
        "p_g=0.95\n",
        "# probabilidad global\n",
        "alfa_g=(1-p_g)/2\n",
        "# probabilidad  para un solo dato\n",
        "alfa= 1-(1-alfa_g)**(1/len(datos)) # Se realiza este ajuste para ser más precisos.\n",
        "#alfa = alfa_g # Si no realiza la corrección de la línea anterior entonces hubiese detectado más valores que son outliers cuando realmente no lo son. Descomentar esta línea para ver el resultado, que es el mismo que el obtenidoi con el método 2 de este código.\n",
        "                # con esta corrección lo que se pretende es obtener bandas lo sificientemente anchas."
      ],
      "metadata": {
        "id": "9fKisenIYuQr"
      },
      "execution_count": null,
      "outputs": []
    },
    {
      "cell_type": "code",
      "source": [
        "## CRITERIO 2:  Criterio Chauvenet\n",
        "# El uso del Criterio de Chauvenet es controvertido en algunas áreas de la estadística, ya que puede llevar a descartar datos válidos,\n",
        "# especialmente en conjuntos de datos pequeños o en situaciones donde los datos no siguen una distribución normal.\n",
        "# Por lo tanto, debe usarse con precaución y teniendo en cuenta el contexto específico de los datos analizados.\n",
        "\n",
        "#alfa=1/(2*len(datos))\n",
        "Z_alfa=st.norm.ppf(1-alfa/2)"
      ],
      "metadata": {
        "id": "g4nLuB9jZeg8"
      },
      "execution_count": null,
      "outputs": []
    },
    {
      "cell_type": "code",
      "source": [
        "# Impresión de resultados\n",
        "alfa=round(alfa,5)\n",
        "Z_alfa=round(Z_alfa,5)\n",
        "print(f\" Alfa ={alfa}\")\n",
        "print(f\" Z_alfa ={Z_alfa}\")"
      ],
      "metadata": {
        "colab": {
          "base_uri": "https://localhost:8080/"
        },
        "id": "g9j4Bt4OZkCC",
        "outputId": "1b17ee7a-333d-4d8e-f264-b319d6849c2d"
      },
      "execution_count": null,
      "outputs": [
        {
          "output_type": "stream",
          "name": "stdout",
          "text": [
            " Alfa =0.00025\n",
            " Z_alfa =3.65906\n"
          ]
        }
      ]
    },
    {
      "cell_type": "code",
      "source": [
        "# Utilizaremos el Criterio 1 ó el Criuterio 2 para calcular alfa y Z-alfa en función de la naturaleza de los datos que estamos procesando.\n",
        "xL=  round(np.mean(datos)-Z_alfa*  np.std(datos),4)\n",
        "xU=  round(np.mean(datos)+Z_alfa*  np.std(datos),4)\n",
        "print(f\" Banda= [ {xL},{xU}]\")"
      ],
      "metadata": {
        "colab": {
          "base_uri": "https://localhost:8080/"
        },
        "id": "d0aZTSIdZzMC",
        "outputId": "51bc2e3e-7df3-4f4f-ec54-f81688868c95"
      },
      "execution_count": null,
      "outputs": [
        {
          "output_type": "stream",
          "name": "stdout",
          "text": [
            " Banda= [ -150321.3755,199852.8828]\n"
          ]
        }
      ]
    },
    {
      "cell_type": "code",
      "source": [
        "for i in  range(len(datos)):\n",
        "        if datos[i] < xL  or datos[i]>xU:\n",
        "          print(f\" El dato[{i}]={datos[i]} es un outlier\")"
      ],
      "metadata": {
        "colab": {
          "base_uri": "https://localhost:8080/"
        },
        "id": "WPWi93GbZ5Gr",
        "outputId": "47aab5ab-d777-4d2f-dd28-1ca32d05d530"
      },
      "execution_count": null,
      "outputs": [
        {
          "output_type": "stream",
          "name": "stdout",
          "text": [
            " El dato[50]=500000.0 es un outlier\n"
          ]
        }
      ]
    },
    {
      "cell_type": "code",
      "source": [
        "# Utilizaremos el Criterio 1 ó el Criuterio 2 para calcular alfa y Z-alfa en función de la naturaleza de los datos que estamos procesando.\n",
        "xL=  round(np.median(datos)-Z_alfa*  np.std(datos),4)\n",
        "xU=  round(np.median(datos)+Z_alfa*  np.std(datos),4)\n",
        "print(f\" Banda= [ {xL},{xU}]\")"
      ],
      "metadata": {
        "colab": {
          "base_uri": "https://localhost:8080/"
        },
        "id": "c4beaQ20auzL",
        "outputId": "fbe7e3d5-e319-4e87-bced-2f944dab1f78"
      },
      "execution_count": null,
      "outputs": [
        {
          "output_type": "stream",
          "name": "stdout",
          "text": [
            " Banda= [ -154812.4667,195361.7916]\n"
          ]
        }
      ]
    },
    {
      "cell_type": "code",
      "source": [
        "for i in  range(len(datos)):\n",
        "        if datos[i] < xL  or datos[i]>xU:\n",
        "          print(f\" El dato[{i}]={datos[i]} es un outlier\")"
      ],
      "metadata": {
        "colab": {
          "base_uri": "https://localhost:8080/"
        },
        "id": "w8q9Jm2Da2ES",
        "outputId": "571508b9-f7f4-4aa6-e576-38c9ba48e27c"
      },
      "execution_count": null,
      "outputs": [
        {
          "output_type": "stream",
          "name": "stdout",
          "text": [
            " El dato[50]=500000.0 es un outlier\n"
          ]
        }
      ]
    },
    {
      "cell_type": "code",
      "source": [
        "x = np.array([1,2,3,4,5,6,7,8,9,10])\n",
        "\n",
        "media=  np.mean(x)\n",
        "mediana=  np.median (x)\n",
        "desviacion_estandar = np.std(x)\n",
        "varianza= np.var(x,ddof=1)\n",
        "rango= np.ptp(x)\n",
        "\n",
        "print(f\"Media= {media}\")\n",
        "print(f\"Mediana={mediana}\")\n",
        "print(f\"Desviación Estandar= {desviacion_estandar}\")\n",
        "print(f\"Varianza={varianza}\")\n",
        "print(f\"Rango= {rango}\")\n"
      ],
      "metadata": {
        "colab": {
          "base_uri": "https://localhost:8080/"
        },
        "id": "H14VpUo2Ueqq",
        "outputId": "3425dce9-3b30-4880-aa4b-052f7a752b8c"
      },
      "execution_count": 8,
      "outputs": [
        {
          "output_type": "stream",
          "name": "stdout",
          "text": [
            "Media= 5.5\n",
            "Mediana=5.5\n",
            "Desviación Estandar= 2.8722813232690143\n",
            "Varianza=9.166666666666666\n",
            "Rango= 9\n"
          ]
        }
      ]
    },
    {
      "cell_type": "code",
      "source": [
        "df = pd.DataFrame(x)\n",
        "\n",
        "# Usar describe() para obtener estadísticas\n",
        "estadisticas = df.describe()\n",
        "\n",
        "print(estadisticas)"
      ],
      "metadata": {
        "colab": {
          "base_uri": "https://localhost:8080/"
        },
        "id": "kewYylEiZnko",
        "outputId": "b3b6f188-7783-43dc-c0fa-0c85862535ac"
      },
      "execution_count": 6,
      "outputs": [
        {
          "output_type": "stream",
          "name": "stdout",
          "text": [
            "              0\n",
            "count  10.00000\n",
            "mean    5.50000\n",
            "std     3.02765\n",
            "min     1.00000\n",
            "25%     3.25000\n",
            "50%     5.50000\n",
            "75%     7.75000\n",
            "max    10.00000\n"
          ]
        }
      ]
    },
    {
      "cell_type": "code",
      "source": [
        "from sklearn.compose import ColumnTransformer\n",
        "from sklearn.preprocessing import StandardScaler  # Para el escalamiento Estandarización Z\n",
        "from sklearn.preprocessing import MinMaxScaler # Para el escalamiento por Rangos\n",
        "from sklearn.compose import make_column_selector\n",
        "\n",
        "\n",
        "Data = pd.DataFrame(x, columns=['x'])\n",
        "\n",
        "\n",
        "numeric_cols = Data.select_dtypes(include=['float64', 'int']).columns.to_list()\n",
        "\n",
        "\n",
        "preprocessor_RR = ColumnTransformer(\n",
        "                   [('scale', MinMaxScaler(), numeric_cols)],remainder='passthrough')\n",
        "\n",
        "Data_prep_RR = preprocessor_RR.fit_transform(Data)\n",
        "\n",
        "print (f\"Media= {np.mean(Data_prep_RR)}\")\n",
        "\n",
        "print (f\"Mediana= {np.median(Data_prep_RR)}\")\n",
        "\n",
        "\n",
        "\n",
        "\n"
      ],
      "metadata": {
        "colab": {
          "base_uri": "https://localhost:8080/"
        },
        "id": "BRdYCLVBga2w",
        "outputId": "e4000d9d-ddb5-41c5-b65d-b1e5d87d5ddc"
      },
      "execution_count": 17,
      "outputs": [
        {
          "output_type": "stream",
          "name": "stdout",
          "text": [
            "Media= 0.5\n",
            "Mediana= 0.5\n"
          ]
        }
      ]
    },
    {
      "cell_type": "code",
      "source": [
        "\n",
        "preprocessor_SS = ColumnTransformer(\n",
        "                   [('scale', StandardScaler(), numeric_cols)],remainder='passthrough')\n",
        "Data_prep_SS = preprocessor_SS.fit_transform(Data)\n",
        "Data_prep_SS_v2  = preprocessor_SS.transform(Data)\n",
        "\n",
        "print (f\"Media= {np.mean(Data_prep_SS)}\")\n",
        "\n",
        "print (f\"Mediana= {np.median(Data_prep_SS)}\")"
      ],
      "metadata": {
        "colab": {
          "base_uri": "https://localhost:8080/"
        },
        "id": "w1jr0bgwh3qv",
        "outputId": "8fd142b3-b864-4c61-bd3d-cd2ae5bd137f"
      },
      "execution_count": 18,
      "outputs": [
        {
          "output_type": "stream",
          "name": "stdout",
          "text": [
            "Media= -6.661338147750939e-17\n",
            "Mediana= 0.0\n"
          ]
        }
      ]
    }
  ]
}